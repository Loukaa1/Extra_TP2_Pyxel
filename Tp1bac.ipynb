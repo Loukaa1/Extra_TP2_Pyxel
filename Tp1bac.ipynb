{
  "cells": [
    {
      "cell_type": "markdown",
      "metadata": {
        "id": "view-in-github",
        "colab_type": "text"
      },
      "source": [
        "<a href=\"https://colab.research.google.com/github/Loukaa1/Extra_TP2_Pyxel/blob/main/Tp1bac.ipynb\" target=\"_parent\"><img src=\"https://colab.research.google.com/assets/colab-badge.svg\" alt=\"Open In Colab\"/></a>"
      ]
    },
    {
      "cell_type": "code",
      "source": [
        "def taille(arbre, lettre):\n",
        "    if lettre == '':\n",
        "        return 0\n",
        "    lgauche, ldroit = arbre[lettre]\n",
        "    return 1 + taille(arbre, lgauche) + taille(arbre, ldroit)\n",
        "\n",
        "\n",
        "a = {\n",
        "    'F': ['B', 'G'], 'B': ['A', 'D'], 'A': ['', ''], 'D': ['C', 'E'],\n",
        "    'C': ['', ''], 'E': ['', ''], 'G': ['', 'I'], 'I': ['', 'H'], 'H': ['', '']\n",
        "}\n",
        "\n",
        "assert taille(a, 'B') == 5"
      ],
      "metadata": {
        "id": "C7BUlE8nFhif"
      },
      "execution_count": 2,
      "outputs": []
    },
    {
      "cell_type": "code",
      "source": [
        "def echange(tab, i, j):\n",
        "    temp = tab[i]\n",
        "    tab[i] = tab[j]\n",
        "    tab[j] = temp\n",
        "\n",
        "def tri_selection(tab):\n",
        "    N = len(tab)\n",
        "    for k in range(N - 1):\n",
        "        imin = k\n",
        "        for i in range(k + 1, N):\n",
        "            if tab[i] < tab[imin]:\n",
        "                imin = i\n",
        "        echange(tab, k, imin)"
      ],
      "metadata": {
        "id": "ra-RtLbZFqGB"
      },
      "execution_count": null,
      "outputs": []
    }
  ],
  "metadata": {
    "colab": {
      "name": "Overview of Colaboratory Features",
      "provenance": [],
      "include_colab_link": true
    },
    "kernelspec": {
      "display_name": "Python 3",
      "name": "python3"
    }
  },
  "nbformat": 4,
  "nbformat_minor": 0
}